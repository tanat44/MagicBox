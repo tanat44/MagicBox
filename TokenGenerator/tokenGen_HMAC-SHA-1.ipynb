{
 "cells": [
  {
   "cell_type": "code",
   "execution_count": 126,
   "metadata": {},
   "outputs": [],
   "source": [
    "import hmac\n",
    "import hashlib\n",
    "\n",
    "import time\n",
    "from datetime import datetime\n",
    "\n",
    "import random\n",
    "import string"
   ]
  },
  {
   "cell_type": "markdown",
   "metadata": {},
   "source": [
    "# Init private key"
   ]
  },
  {
   "cell_type": "code",
   "execution_count": 127,
   "metadata": {},
   "outputs": [
    {
     "name": "stdout",
     "output_type": "stream",
     "text": [
      "ey2dc0udf6bzjyb25y0fk3nzkc9vlm1t44t9h393g3vosfxcn6sax7fj7axh8nf316ogl40tm7p6m42fhlnwq48m67auegzkvpxrn16xpwvngrz4f1j4bkoysdsl9n497bgph3s7jcx746xqzy9xgy0hng1gwjxdfbu5xosanj4hacqmwbuy9afuke7sa0q9tcwxg0ghg5v97r8cgnc0u7xm1vlcip8ght4ayzc5b1f50xz6c6e2v83eim8520ia\n"
     ]
    }
   ],
   "source": [
    "Key = ''.join(random.choice(string.ascii_lowercase + string.digits) for _ in range(256))\n",
    "print(Key)"
   ]
  },
  {
   "cell_type": "markdown",
   "metadata": {},
   "source": [
    "# time function"
   ]
  },
  {
   "cell_type": "code",
   "execution_count": 128,
   "metadata": {},
   "outputs": [],
   "source": [
    "# Output string: number of day since 1 Jan 1970\n",
    "\n",
    "def getCurrentDayFromEpoch():\n",
    "    if time.tzname[0] != 'SE Asia Standard Time':\n",
    "        raise ValueError('The device time zone is not GMT+7')\n",
    "\n",
    "    current_time = time.time()\n",
    "\n",
    "    current_time_in_sec = int(current_time)\n",
    "    sec_in_one_day = 60*60*24\n",
    "\n",
    "    current_day = int(current_time_in_sec/sec_in_one_day)\n",
    "    return str(current_day)"
   ]
  },
  {
   "cell_type": "code",
   "execution_count": 129,
   "metadata": {},
   "outputs": [],
   "source": [
    "# Output string: current date in YYYYMMDD\n",
    "\n",
    "def getCurrentDay():\n",
    "    timestamp=datetime.now()\n",
    "    current_day = timestamp.strftime(\"%Y%m%d\")\n",
    "    return current_day"
   ]
  },
  {
   "cell_type": "markdown",
   "metadata": {},
   "source": [
    "# calculate hash with epoch time"
   ]
  },
  {
   "cell_type": "code",
   "execution_count": 130,
   "metadata": {},
   "outputs": [
    {
     "name": "stdout",
     "output_type": "stream",
     "text": [
      "18907\n"
     ]
    }
   ],
   "source": [
    "current_day = getCurrentDayFromEpoch()\n",
    "print(current_day)"
   ]
  },
  {
   "cell_type": "code",
   "execution_count": 131,
   "metadata": {
    "scrolled": true
   },
   "outputs": [],
   "source": [
    "h = hmac.new(Key.encode(), msg=current_day.encode(), digestmod=hashlib.sha1)"
   ]
  },
  {
   "cell_type": "code",
   "execution_count": 132,
   "metadata": {
    "scrolled": true
   },
   "outputs": [
    {
     "name": "stdout",
     "output_type": "stream",
     "text": [
      "ca04d16160f7d0f1c78ffbc5f2ebfe03d550cc75\n"
     ]
    }
   ],
   "source": [
    "print(h.hexdigest())"
   ]
  },
  {
   "cell_type": "markdown",
   "metadata": {},
   "source": [
    "# calculate hash with YYYYMMDD date"
   ]
  },
  {
   "cell_type": "code",
   "execution_count": 133,
   "metadata": {},
   "outputs": [
    {
     "name": "stdout",
     "output_type": "stream",
     "text": [
      "20211007\n"
     ]
    }
   ],
   "source": [
    "current_day = getCurrentDay()\n",
    "print(current_day)"
   ]
  },
  {
   "cell_type": "code",
   "execution_count": 134,
   "metadata": {
    "scrolled": true
   },
   "outputs": [],
   "source": [
    "h = hmac.new(Key.encode(), msg=current_day.encode(), digestmod=hashlib.sha1)"
   ]
  },
  {
   "cell_type": "code",
   "execution_count": 135,
   "metadata": {
    "scrolled": true
   },
   "outputs": [
    {
     "name": "stdout",
     "output_type": "stream",
     "text": [
      "e4620c8b34ff6db31e76f8a6240413f2522caa10\n"
     ]
    }
   ],
   "source": [
    "print(h.hexdigest())"
   ]
  },
  {
   "cell_type": "markdown",
   "metadata": {},
   "source": [
    "# Get OTP from hash"
   ]
  },
  {
   "cell_type": "code",
   "execution_count": 136,
   "metadata": {},
   "outputs": [],
   "source": [
    "num_digits = 6"
   ]
  },
  {
   "cell_type": "code",
   "execution_count": 137,
   "metadata": {},
   "outputs": [
    {
     "name": "stdout",
     "output_type": "stream",
     "text": [
      "147339\n"
     ]
    }
   ],
   "source": [
    "hmac_hash = bytearray(h.digest())\n",
    "offset = hmac_hash[-1] & 0xf\n",
    "code = ((hmac_hash[offset] & 0x7f) << 24 |\n",
    "        (hmac_hash[offset + 1] & 0xff) << 16 |\n",
    "        (hmac_hash[offset + 2] & 0xff) << 8 |\n",
    "        (hmac_hash[offset + 3] & 0xff))\n",
    "str_code = str(code % 10 ** num_digits)\n",
    "while len(str_code) < num_digits:\n",
    "    str_code = '0' + str_code\n",
    "\n",
    "print(str_code)"
   ]
  },
  {
   "cell_type": "code",
   "execution_count": null,
   "metadata": {},
   "outputs": [],
   "source": []
  }
 ],
 "metadata": {
  "kernelspec": {
   "display_name": "Python 3",
   "language": "python",
   "name": "python3"
  },
  "language_info": {
   "codemirror_mode": {
    "name": "ipython",
    "version": 3
   },
   "file_extension": ".py",
   "mimetype": "text/x-python",
   "name": "python",
   "nbconvert_exporter": "python",
   "pygments_lexer": "ipython3",
   "version": "3.8.5"
  }
 },
 "nbformat": 4,
 "nbformat_minor": 4
}
